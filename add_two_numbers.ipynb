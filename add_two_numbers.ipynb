{
  "nbformat": 4,
  "nbformat_minor": 0,
  "metadata": {
    "colab": {
      "provenance": []
    },
    "kernelspec": {
      "name": "python3",
      "display_name": "Python 3"
    },
    "language_info": {
      "name": "python"
    }
  },
  "cells": [
    {
      "cell_type": "code",
      "execution_count": 1,
      "metadata": {
        "colab": {
          "base_uri": "https://localhost:8080/"
        },
        "id": "CzzzKvhi9goS",
        "outputId": "4545736b-88c9-4681-ad02-d9393b5a36ce"
      },
      "outputs": [
        {
          "output_type": "stream",
          "name": "stdout",
          "text": [
            "enter a first number6\n",
            "enter a second number 4\n",
            "10\n"
          ]
        }
      ],
      "source": [
        "a = int(input(\"enter a first number\" ))\n",
        "b = int(input(\"enter a second number \"))\n",
        "print(a+b)"
      ]
    }
  ]
}