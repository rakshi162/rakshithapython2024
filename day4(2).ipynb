{
  "nbformat": 4,
  "nbformat_minor": 0,
  "metadata": {
    "colab": {
      "provenance": []
    },
    "kernelspec": {
      "name": "python3",
      "display_name": "Python 3"
    },
    "language_info": {
      "name": "python"
    }
  },
  "cells": [
    {
      "cell_type": "code",
      "source": [
        "class Solution(object):\n",
        "    def isPalindrome(self, x):\n",
        "        \"\"\"\n",
        "        :type x: int\n",
        "        :rtype: bool\n",
        "        \"\"\"\n",
        "        if x < 0 or (x % 10 == 0 and x != 0):\n",
        "            return False\n",
        "\n",
        "        reversed_half = 0\n",
        "        while x > reversed_half:\n",
        "\n",
        "            reversed_half = reversed_half * 10 + x % 10\n",
        "            x //= 10\n",
        "\n",
        "\n",
        "        return x == reversed_half or x == reversed_half // 10\n",
        "\n",
        "\n",
        "solution = Solution()\n",
        "print(solution.isPalindrome(121))\n",
        "print(solution.isPalindrome(-121))\n",
        "print(solution.isPalindrome(10))\n",
        "print(solution.isPalindrome(0))"
      ],
      "metadata": {
        "colab": {
          "base_uri": "https://localhost:8080/"
        },
        "id": "H4VPaSf2eDd1",
        "outputId": "be395146-a7d1-4784-8a2a-5b45811b994b"
      },
      "execution_count": 7,
      "outputs": [
        {
          "output_type": "stream",
          "name": "stdout",
          "text": [
            "True\n",
            "False\n",
            "False\n",
            "True\n"
          ]
        }
      ]
    },
    {
      "cell_type": "code",
      "source": [
        "import random\n",
        "responses = [\n",
        "\"It is certain\",\n",
        "\"Reply hazy, try again\",\n",
        "\"Don’t count on it\",\n",
        "\"Yes, definitely\",\n",
        "\"Ask again later\",\n",
        "\"My reply is no\",\n",
        "\"Outlook not so good\",\n",
        "\"Signs point to yes\"\n",
        "]\n",
        "print(\"Ask the Magic 8 Ball a question: \")\n",
        "input()\n",
        "print(random.choice(responses))"
      ],
      "metadata": {
        "colab": {
          "base_uri": "https://localhost:8080/"
        },
        "id": "nISydgN-m8dm",
        "outputId": "1eff286f-1ff2-4362-fd0c-744e636b8ecd"
      },
      "execution_count": 8,
      "outputs": [
        {
          "output_type": "stream",
          "name": "stdout",
          "text": [
            "Ask the Magic 8 Ball a question: \n",
            "8\n",
            "Signs point to yes\n"
          ]
        }
      ]
    },
    {
      "cell_type": "code",
      "source": [
        "phone_book = {\n",
        "\"John\": \"555-1234\",\n",
        "\"Alice\": \"555-5678\",\n",
        "\"Bob\": \"555-8765\"\n",
        "}\n",
        "print(phone_book[\"Alice\"])"
      ],
      "metadata": {
        "colab": {
          "base_uri": "https://localhost:8080/"
        },
        "id": "1u6WcDhxnPSk",
        "outputId": "687ec6b8-b5e5-45bd-8593-a1449952808e"
      },
      "execution_count": 9,
      "outputs": [
        {
          "output_type": "stream",
          "name": "stdout",
          "text": [
            "555-5678\n"
          ]
        }
      ]
    },
    {
      "cell_type": "code",
      "source": [
        "import pprint\n",
        "data = {\"name\": \"Alice\", \"subjects\": [\"Math\", \"Science\"], \"grades\": {\"Math\": \"A\",\n",
        "\"Science\": \"B\"}}\n",
        "pprint.pprint(data)"
      ],
      "metadata": {
        "colab": {
          "base_uri": "https://localhost:8080/"
        },
        "id": "b2UIWOlAnRzU",
        "outputId": "245d88b0-e335-44e2-8941-b144be7b4bdf"
      },
      "execution_count": 10,
      "outputs": [
        {
          "output_type": "stream",
          "name": "stdout",
          "text": [
            "{'grades': {'Math': 'A', 'Science': 'B'},\n",
            " 'name': 'Alice',\n",
            " 'subjects': ['Math', 'Science']}\n"
          ]
        }
      ]
    },
    {
      "cell_type": "code",
      "source": [
        "original = [1, 2, 3]\n",
        "copy = original\n",
        "copy[0] = 99\n",
        "print(original)"
      ],
      "metadata": {
        "colab": {
          "base_uri": "https://localhost:8080/"
        },
        "id": "7mX068u7nrCf",
        "outputId": "50b63bba-0157-4c87-9c4c-d8193d726caa"
      },
      "execution_count": 11,
      "outputs": [
        {
          "output_type": "stream",
          "name": "stdout",
          "text": [
            "[99, 2, 3]\n"
          ]
        }
      ]
    },
    {
      "cell_type": "code",
      "source": [
        "copy = original.copy()\n",
        "copy[0] = 42\n",
        "print(original)"
      ],
      "metadata": {
        "colab": {
          "base_uri": "https://localhost:8080/"
        },
        "id": "wEKhe9i4nyo0",
        "outputId": "d556299e-fc78-4ceb-ecac-6852617dba46"
      },
      "execution_count": 12,
      "outputs": [
        {
          "output_type": "stream",
          "name": "stdout",
          "text": [
            "[99, 2, 3]\n"
          ]
        }
      ]
    },
    {
      "cell_type": "code",
      "source": [
        "text = \"hello\"\n",
        "print(text[1])"
      ],
      "metadata": {
        "colab": {
          "base_uri": "https://localhost:8080/"
        },
        "id": "oYlMcY6doAyz",
        "outputId": "b6697e54-2082-4ec1-ce04-446adca49ab7"
      },
      "execution_count": 13,
      "outputs": [
        {
          "output_type": "stream",
          "name": "stdout",
          "text": [
            "e\n"
          ]
        }
      ]
    },
    {
      "cell_type": "code",
      "source": [
        "data = (1, 2, 3)\n",
        "print(data[0])"
      ],
      "metadata": {
        "colab": {
          "base_uri": "https://localhost:8080/"
        },
        "id": "1h16yR0-oC8S",
        "outputId": "f03d1a3b-b6b5-4331-ae1e-c8e5c26c53b5"
      },
      "execution_count": 14,
      "outputs": [
        {
          "output_type": "stream",
          "name": "stdout",
          "text": [
            "1\n"
          ]
        }
      ]
    },
    {
      "cell_type": "code",
      "source": [
        "colors = ['red', 'blue', 'green', 'blue']\n",
        "print(colors.index('blue'))\n",
        "print(colors.count('blue'))"
      ],
      "metadata": {
        "colab": {
          "base_uri": "https://localhost:8080/"
        },
        "id": "e3wKwXWBoQOV",
        "outputId": "ff7562be-c92e-4cf3-bcca-32f8af7a0fec"
      },
      "execution_count": 15,
      "outputs": [
        {
          "output_type": "stream",
          "name": "stdout",
          "text": [
            "1\n",
            "2\n"
          ]
        }
      ]
    },
    {
      "cell_type": "code",
      "source": [
        "x = 5\n",
        "x += 3\n",
        "print(x)"
      ],
      "metadata": {
        "colab": {
          "base_uri": "https://localhost:8080/"
        },
        "id": "6IRCcPCwoTBu",
        "outputId": "0042dc9b-9df8-4cff-8cca-4a9ffbfb5dc1"
      },
      "execution_count": 16,
      "outputs": [
        {
          "output_type": "stream",
          "name": "stdout",
          "text": [
            "8\n"
          ]
        }
      ]
    },
    {
      "cell_type": "code",
      "source": [
        "fruits = ['apple', 'banana', 'cherry']\n",
        "print(fruits[0])"
      ],
      "metadata": {
        "id": "NJYrQdmIoj-1",
        "outputId": "a36890c6-8bd0-451f-fa59-4b5b691d6049",
        "colab": {
          "base_uri": "https://localhost:8080/"
        }
      },
      "execution_count": 17,
      "outputs": [
        {
          "output_type": "stream",
          "name": "stdout",
          "text": [
            "apple\n"
          ]
        }
      ]
    }
  ]
}