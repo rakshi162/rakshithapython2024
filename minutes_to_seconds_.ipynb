{
  "nbformat": 4,
  "nbformat_minor": 0,
  "metadata": {
    "colab": {
      "provenance": []
    },
    "kernelspec": {
      "name": "python3",
      "display_name": "Python 3"
    },
    "language_info": {
      "name": "python"
    }
  },
  "cells": [
    {
      "cell_type": "code",
      "source": [
        "minutes = int(input(\"enter time in minutes\"))\n",
        "\n",
        "hours = minutes / 60\n",
        "print(hours)"
      ],
      "metadata": {
        "colab": {
          "base_uri": "https://localhost:8080/"
        },
        "id": "Dgq5j6_fDS-8",
        "outputId": "9883760b-fab0-4f1d-8bff-a1ae24eaa18b"
      },
      "execution_count": 14,
      "outputs": [
        {
          "output_type": "stream",
          "name": "stdout",
          "text": [
            "enter time in minutes5\n",
            "0.08333333333333333\n"
          ]
        }
      ]
    }
  ]
}