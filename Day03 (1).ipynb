{
  "nbformat": 4,
  "nbformat_minor": 0,
  "metadata": {
    "colab": {
      "provenance": []
    },
    "kernelspec": {
      "name": "python3",
      "display_name": "Python 3"
    },
    "language_info": {
      "name": "python"
    }
  },
  "cells": [
    {
      "cell_type": "markdown",
      "source": [
        "**FUNCTION** **AND** **MODULES**"
      ],
      "metadata": {
        "id": "HAViDfagbePL"
      }
    },
    {
      "cell_type": "markdown",
      "source": [
        "1"
      ],
      "metadata": {
        "id": "xx5zEfDqenUq"
      }
    },
    {
      "cell_type": "code",
      "execution_count": null,
      "metadata": {
        "id": "X-tHIHxN0K6q",
        "colab": {
          "base_uri": "https://localhost:8080/"
        },
        "outputId": "3d6efaa4-af95-4c72-e7e9-8578fca0c429"
      },
      "outputs": [
        {
          "output_type": "stream",
          "name": "stdout",
          "text": [
            "hello,john!\n"
          ]
        }
      ],
      "source": [
        "# function syntax\n",
        "def greet(name):\n",
        "  print(\"hello,\"+ name +\"!\")\n",
        "\n",
        "greet(\"john\")"
      ]
    },
    {
      "cell_type": "markdown",
      "source": [
        "**Functional** **arguments**\n",
        "\n",
        "\n",
        "1  **positional** **arguments**"
      ],
      "metadata": {
        "id": "ZqVJXpI_e-aB"
      }
    },
    {
      "cell_type": "code",
      "source": [
        "def add(a,b):\n",
        "  return a + b\n",
        "\n",
        "print(add(5,6))"
      ],
      "metadata": {
        "colab": {
          "base_uri": "https://localhost:8080/"
        },
        "id": "Ss3zYtjUepbZ",
        "outputId": "d008345d-cbf0-4f0d-df35-03209e2e4090"
      },
      "execution_count": null,
      "outputs": [
        {
          "output_type": "stream",
          "name": "stdout",
          "text": [
            "11\n"
          ]
        }
      ]
    },
    {
      "cell_type": "markdown",
      "source": [
        "2   **keyword** **arguments**"
      ],
      "metadata": {
        "id": "EKAbTmcUfhb5"
      }
    },
    {
      "cell_type": "code",
      "source": [
        "def greet(name,message):\n",
        "  print(message + \",\" + name + \"!\")\n",
        "\n",
        "greet(name=\"john\",message=\"good morning\")"
      ],
      "metadata": {
        "colab": {
          "base_uri": "https://localhost:8080/"
        },
        "id": "w3ruYISXfwzA",
        "outputId": "4695124e-fd55-4270-96fb-ad0f8d4061c6"
      },
      "execution_count": null,
      "outputs": [
        {
          "output_type": "stream",
          "name": "stdout",
          "text": [
            "good morning,john!\n"
          ]
        }
      ]
    },
    {
      "cell_type": "markdown",
      "source": [
        "3  **default** **argument**"
      ],
      "metadata": {
        "id": "XwwqRr7IgTTI"
      }
    },
    {
      "cell_type": "code",
      "source": [
        "def greet(name, message = \"hello\"):\n",
        "  print(message + \",\" + name + \"!\")\n",
        "\n",
        "greet(\"john\")\n",
        "greet(\"bob\", \"hi\")"
      ],
      "metadata": {
        "colab": {
          "base_uri": "https://localhost:8080/"
        },
        "id": "YsyFp5kngZRR",
        "outputId": "70cc25e2-c572-4bdc-eb83-55ba7b40ab2e"
      },
      "execution_count": null,
      "outputs": [
        {
          "output_type": "stream",
          "name": "stdout",
          "text": [
            "hello,john!\n",
            "hi,bob!\n"
          ]
        }
      ]
    },
    {
      "cell_type": "markdown",
      "source": [
        "4  **variable** **length** **argument**\n"
      ],
      "metadata": {
        "id": "eq11_nL5hYRQ"
      }
    },
    {
      "cell_type": "markdown",
      "source": [
        "positional argument"
      ],
      "metadata": {
        "id": "EYkTvHe4mGOn"
      }
    },
    {
      "cell_type": "code",
      "source": [
        "def sum_numbers(*numbers):\n",
        "  return sum(numbers)\n",
        "print(sum_numbers(1,2,3,4))\n"
      ],
      "metadata": {
        "colab": {
          "base_uri": "https://localhost:8080/"
        },
        "id": "8eXmIntFhgK_",
        "outputId": "5d010ebf-1f2d-4ab0-ea8c-f0eae9c14b5b"
      },
      "execution_count": null,
      "outputs": [
        {
          "output_type": "stream",
          "name": "stdout",
          "text": [
            "10\n"
          ]
        }
      ]
    },
    {
      "cell_type": "markdown",
      "source": [
        "keyword argument"
      ],
      "metadata": {
        "id": "HJs5WF8kmJfW"
      }
    },
    {
      "cell_type": "code",
      "source": [
        "def person(**numbers):\n",
        "  for key,value in numbers.items():\n",
        "     print(f\"{key}:{value}\")\n",
        "person(name=\"john\",age=30,city=\"new york\")"
      ],
      "metadata": {
        "colab": {
          "base_uri": "https://localhost:8080/"
        },
        "outputId": "3d477093-e36d-4c67-c631-0ee5945e9e1f",
        "id": "y2Ws5JnelD3H"
      },
      "execution_count": null,
      "outputs": [
        {
          "output_type": "stream",
          "name": "stdout",
          "text": [
            "name:john\n",
            "age:30\n",
            "city:new york\n"
          ]
        }
      ]
    },
    {
      "cell_type": "markdown",
      "source": [
        "**return** **statement**"
      ],
      "metadata": {
        "id": "qam5gn2nnwQK"
      }
    },
    {
      "cell_type": "code",
      "source": [
        "def square(num):\n",
        "  return num * num\n",
        "result = square(4)\n",
        "print(\"square is:\",result)"
      ],
      "metadata": {
        "colab": {
          "base_uri": "https://localhost:8080/"
        },
        "id": "knJ5JnsimOT2",
        "outputId": "d568fc0b-cd60-4346-8c27-7cc6b56b07e9"
      },
      "execution_count": null,
      "outputs": [
        {
          "output_type": "stream",
          "name": "stdout",
          "text": [
            "square is: 16\n"
          ]
        }
      ]
    },
    {
      "cell_type": "code",
      "source": [
        "def square(num):\n",
        "  return num * num\n",
        "\n",
        "square(5)"
      ],
      "metadata": {
        "colab": {
          "base_uri": "https://localhost:8080/"
        },
        "id": "cPvTmfrVoN3M",
        "outputId": "556f2a99-9885-49bd-86f9-a23c4f2c353a"
      },
      "execution_count": null,
      "outputs": [
        {
          "output_type": "execute_result",
          "data": {
            "text/plain": [
              "25"
            ]
          },
          "metadata": {},
          "execution_count": 16
        }
      ]
    },
    {
      "cell_type": "code",
      "source": [
        "result = square(4)\n",
        "print(\"square is:\",result)"
      ],
      "metadata": {
        "colab": {
          "base_uri": "https://localhost:8080/"
        },
        "outputId": "e8301334-6791-4b4f-bb90-7616a868004b",
        "id": "ecBd1Dsvod15"
      },
      "execution_count": null,
      "outputs": [
        {
          "output_type": "stream",
          "name": "stdout",
          "text": [
            "square is: 16\n"
          ]
        }
      ]
    },
    {
      "cell_type": "markdown",
      "source": [
        "**modules**"
      ],
      "metadata": {
        "id": "vijLQunQqU4E"
      }
    },
    {
      "cell_type": "markdown",
      "source": [
        "**import** **math**"
      ],
      "metadata": {
        "id": "BtwMsXuJq3vk"
      }
    },
    {
      "cell_type": "code",
      "source": [
        "import math\n",
        "print(math.sqrt(16))"
      ],
      "metadata": {
        "colab": {
          "base_uri": "https://localhost:8080/"
        },
        "id": "z5Ub4TqUqW40",
        "outputId": "4d98ddf8-c80e-4b88-ab3d-3f1ad9aa3b14"
      },
      "execution_count": null,
      "outputs": [
        {
          "output_type": "stream",
          "name": "stdout",
          "text": [
            "4.0\n"
          ]
        }
      ]
    },
    {
      "cell_type": "code",
      "source": [
        "from math import pi,sin\n",
        "print(pi)\n",
        "print(sin(math.radians(90)))"
      ],
      "metadata": {
        "colab": {
          "base_uri": "https://localhost:8080/"
        },
        "id": "DHIklTLSq9cc",
        "outputId": "4e46cb0a-0cd9-46ad-de1f-752782665794"
      },
      "execution_count": null,
      "outputs": [
        {
          "output_type": "stream",
          "name": "stdout",
          "text": [
            "3.141592653589793\n",
            "1.0\n"
          ]
        }
      ]
    },
    {
      "cell_type": "code",
      "source": [
        "def greet(name):\n",
        "  print(\"hello,\" +name)\n",
        "\n",
        "def add(a,b):\n",
        "  return a + b\n",
        "\n",
        "import my_module\n",
        "\n",
        "my_module.greet(\"alice\")\n",
        "print(my_module.add(5,3))"
      ],
      "metadata": {
        "colab": {
          "base_uri": "https://localhost:8080/"
        },
        "id": "ovLpwuIQttGQ",
        "outputId": "ee4403e9-9347-406f-a013-0b3954f6c27a"
      },
      "execution_count": null,
      "outputs": [
        {
          "output_type": "stream",
          "name": "stdout",
          "text": [
            "hello,alice\n",
            "8\n",
            "hello,alice\n",
            "8\n"
          ]
        }
      ]
    },
    {
      "cell_type": "markdown",
      "source": [
        "prime number or not\n"
      ],
      "metadata": {
        "id": "KOKwZkoFGO7r"
      }
    },
    {
      "cell_type": "code",
      "source": [
        "def is_prime(num):\n",
        "  if num <= 1:\n",
        "    return False\n",
        "\n",
        "  for  i in range(2, int(num ** 0.5) + 1):\n",
        "    if num % i == 0:\n",
        "      return False\n",
        "-  return True\n",
        "number = int(input(\"enter a number:\"))\n",
        "if is_prime(number):\n",
        "  print(\"the number is prime\")\n",
        "else:\n",
        "  print(\"the number is not prime\")"
      ],
      "metadata": {
        "colab": {
          "base_uri": "https://localhost:8080/"
        },
        "id": "c_CL_CcHGSvv",
        "outputId": "3d9cc59e-332c-4479-820f-7b228485e73f"
      },
      "execution_count": 10,
      "outputs": [
        {
          "output_type": "stream",
          "name": "stdout",
          "text": [
            "enter a number:8\n",
            "the number is not prime\n"
          ]
        }
      ]
    },
    {
      "cell_type": "markdown",
      "source": [
        "fibonacci sries with function"
      ],
      "metadata": {
        "id": "iBqfrAmfMZ9t"
      }
    },
    {
      "cell_type": "code",
      "source": [
        "def fibonacci(n):\n",
        "  sequence=[]\n",
        "  a,b = 0,1\n",
        "  for i in range(n):\n",
        "    sequence.append(a)\n",
        "    a,b = b,a+b\n",
        "  return sequence\n",
        "\n",
        "terms = int(input(\"enter the number of terms:\"))\n",
        "print(\"fibonacci sequece:\",fibonacci(terms))"
      ],
      "metadata": {
        "colab": {
          "base_uri": "https://localhost:8080/"
        },
        "id": "u8opNiMIMgr8",
        "outputId": "226efbee-008d-4bd5-ae9b-55baa4308c95"
      },
      "execution_count": 13,
      "outputs": [
        {
          "output_type": "stream",
          "name": "stdout",
          "text": [
            "enter the number of terms:10\n",
            "fibonacci sequece: [0, 1, 1, 2, 3, 5, 8, 13, 21, 34]\n"
          ]
        }
      ]
    },
    {
      "cell_type": "markdown",
      "source": [
        "math module"
      ],
      "metadata": {
        "id": "9RKt5eeXNo2v"
      }
    },
    {
      "cell_type": "code",
      "source": [
        "import math\n",
        "angle = float(input(\"enter an angle in degrees:\"))\n",
        "radians = math.radians(angle)\n",
        "print(\"sine of angle:\",math.sin(radians))\n",
        "print(\"cosine of angle:\",math.cos(radians))"
      ],
      "metadata": {
        "colab": {
          "base_uri": "https://localhost:8080/"
        },
        "id": "jVYED9IwNsl7",
        "outputId": "8ce8e326-89ad-4265-8d19-6645635f8433"
      },
      "execution_count": 16,
      "outputs": [
        {
          "output_type": "stream",
          "name": "stdout",
          "text": [
            "enter an angle in degrees:90\n",
            "sine of angle: 1.0\n",
            "cosine of angle: 6.123233995736766e-17\n"
          ]
        }
      ]
    },
    {
      "cell_type": "code",
      "source": [
        "def factorial(n):\n",
        "  if n ==0:\n",
        "    return 1\n",
        "  else:\n",
        "    return n*factorial(n-1)\n",
        "\n",
        "num = int(input(\"enter a number:\"))\n",
        "print(\"factorial:\",factorial(num))"
      ],
      "metadata": {
        "colab": {
          "base_uri": "https://localhost:8080/"
        },
        "id": "AmPtDyZ1Pi8g",
        "outputId": "f4ef563e-0923-4e23-eae2-7898980d3781"
      },
      "execution_count": 17,
      "outputs": [
        {
          "output_type": "stream",
          "name": "stdout",
          "text": [
            "enter a number:6\n",
            "factorial: 720\n"
          ]
        }
      ]
    },
    {
      "cell_type": "code",
      "source": [
        "def fibonacci(n):\n",
        "  a,b = 0,1\n",
        "  for i in range(n):\n",
        "    print(a, end=\" \")\n",
        "    a,b = b, a+b\n",
        "count = int(input(\"enter the number of terms:\"))\n",
        "fibonacci(count)"
      ],
      "metadata": {
        "colab": {
          "base_uri": "https://localhost:8080/"
        },
        "id": "aaOHE3hHQKtE",
        "outputId": "8b9e6bac-72b4-4b1a-a964-c89d66cc9fe2"
      },
      "execution_count": 21,
      "outputs": [
        {
          "output_type": "stream",
          "name": "stdout",
          "text": [
            "enter the number of terms:8\n",
            "0 1 1 2 3 5 8 13 "
          ]
        }
      ]
    },
    {
      "cell_type": "code",
      "source": [
        "def reverse_string(s):\n",
        "  return s[::-1]\n",
        "\n",
        "text = input(\"enter a string:\")\n",
        "print(\"reversed string:\",reverse_string(text))"
      ],
      "metadata": {
        "colab": {
          "base_uri": "https://localhost:8080/"
        },
        "id": "CxIET_wZSEV1",
        "outputId": "1167d619-b12f-40b6-f1ab-52cee57f4646"
      },
      "execution_count": 24,
      "outputs": [
        {
          "output_type": "stream",
          "name": "stdout",
          "text": [
            "enter a string:hello world\n",
            "reversed string: dlrow olleh\n"
          ]
        }
      ]
    },
    {
      "cell_type": "code",
      "source": [
        "def gcd(a,b):\n",
        "  while b:\n",
        "    a,b = b,a % b\n",
        "    return a\n",
        "\n",
        "num1 = int(input(\"enter the first number:\"))\n",
        "num2 = int(input(\"enter the second number:\"))\n",
        "print(\"greatest common divisor:\",gcd(num1,num2))"
      ],
      "metadata": {
        "colab": {
          "base_uri": "https://localhost:8080/"
        },
        "id": "BEbiW1AoTAgs",
        "outputId": "e7fa382c-d415-4554-95a4-4cdb844e28a4"
      },
      "execution_count": 25,
      "outputs": [
        {
          "output_type": "stream",
          "name": "stdout",
          "text": [
            "enter the first number:23\n",
            "enter the second number:5\n",
            "greatest common divisor: 5\n"
          ]
        }
      ]
    }
  ]
}