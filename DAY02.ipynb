{
  "nbformat": 4,
  "nbformat_minor": 0,
  "metadata": {
    "colab": {
      "provenance": []
    },
    "kernelspec": {
      "name": "python3",
      "display_name": "Python 3"
    },
    "language_info": {
      "name": "python"
    }
  },
  "cells": [
    {
      "cell_type": "markdown",
      "source": [
        "**control** **flow** **loops**"
      ],
      "metadata": {
        "id": "_HlbvXZU0n_z"
      }
    },
    {
      "cell_type": "markdown",
      "source": [
        "**if** **statement**"
      ],
      "metadata": {
        "id": "Gjr6cPKV1v17"
      }
    },
    {
      "cell_type": "code",
      "source": [
        "age = 18\n",
        "if age >= 18:\n",
        "    print(\"you are eligible to vote\")\n"
      ],
      "metadata": {
        "colab": {
          "base_uri": "https://localhost:8080/"
        },
        "id": "QubvcsSS0k5c",
        "outputId": "8407502e-e679-4e74-b680-aac8bb544b00"
      },
      "execution_count": 2,
      "outputs": [
        {
          "output_type": "stream",
          "name": "stdout",
          "text": [
            "you are eligible to vote\n"
          ]
        }
      ]
    },
    {
      "cell_type": "markdown",
      "source": [
        "**if** **else** **statement**"
      ],
      "metadata": {
        "id": "gVM3Fp1x2LD6"
      }
    },
    {
      "cell_type": "code",
      "source": [
        "num = int(input(\"enter number:\"))\n",
        "if num % 2 == 0:\n",
        "  print(\"even\")\n",
        "else:\n",
        "  print(\"odd\")"
      ],
      "metadata": {
        "colab": {
          "base_uri": "https://localhost:8080/"
        },
        "id": "B0mNRShp_vVn",
        "outputId": "846ae821-6f66-4d1f-fb06-072a18a7aecd"
      },
      "execution_count": 23,
      "outputs": [
        {
          "output_type": "stream",
          "name": "stdout",
          "text": [
            "enter number:7\n",
            "odd\n"
          ]
        }
      ]
    },
    {
      "cell_type": "markdown",
      "source": [
        "**if** **elif** **else** **statement**"
      ],
      "metadata": {
        "id": "FOqAmFJ13XpC"
      }
    },
    {
      "cell_type": "code",
      "source": [
        "marks = int(input(\"enter marks:\"))\n",
        "if marks >= 80:\n",
        "  print(\"grade : A\")\n",
        "elif marks >= 75:\n",
        "  print(\"grade : B\")\n",
        "elif marks >= 50:\n",
        "  print(\"grade : C\")\n",
        "else:\n",
        "  print(\"grade : F\")\n"
      ],
      "metadata": {
        "colab": {
          "base_uri": "https://localhost:8080/"
        },
        "id": "KDZuYHnq3dVi",
        "outputId": "0e032b52-49de-4558-db24-eec8fbf487f5"
      },
      "execution_count": 7,
      "outputs": [
        {
          "output_type": "stream",
          "name": "stdout",
          "text": [
            "enter marks:65\n",
            "grade : C\n"
          ]
        }
      ]
    },
    {
      "cell_type": "markdown",
      "source": [
        "**FOR** **LOOP**"
      ],
      "metadata": {
        "id": "l0CDBTnO5QIR"
      }
    },
    {
      "cell_type": "code",
      "source": [
        "for i in range (5):\n",
        "  print(\"iteration:\",i)"
      ],
      "metadata": {
        "colab": {
          "base_uri": "https://localhost:8080/"
        },
        "id": "eq-9QUV85OPx",
        "outputId": "edff6bc7-b258-47a2-975b-19be443db8ff"
      },
      "execution_count": 10,
      "outputs": [
        {
          "output_type": "stream",
          "name": "stdout",
          "text": [
            "iteration: 0\n",
            "iteration: 1\n",
            "iteration: 2\n",
            "iteration: 3\n",
            "iteration: 4\n"
          ]
        }
      ]
    },
    {
      "cell_type": "code",
      "source": [
        "for i in range (5,10):\n",
        "  print(\"iteration:\",i)"
      ],
      "metadata": {
        "colab": {
          "base_uri": "https://localhost:8080/"
        },
        "outputId": "d819bde5-8fc8-4d48-bb08-ea0964b38996",
        "id": "QloS4np67FUq"
      },
      "execution_count": 11,
      "outputs": [
        {
          "output_type": "stream",
          "name": "stdout",
          "text": [
            "iteration: 5\n",
            "iteration: 6\n",
            "iteration: 7\n",
            "iteration: 8\n",
            "iteration: 9\n"
          ]
        }
      ]
    },
    {
      "cell_type": "code",
      "source": [
        "for i in range (5,50,10):\n",
        "  print(\"iteration:\",i)"
      ],
      "metadata": {
        "colab": {
          "base_uri": "https://localhost:8080/"
        },
        "outputId": "153c58a9-48b9-423b-e603-bfd416726204",
        "id": "S4DKbM-E7Kwo"
      },
      "execution_count": 12,
      "outputs": [
        {
          "output_type": "stream",
          "name": "stdout",
          "text": [
            "iteration: 5\n",
            "iteration: 15\n",
            "iteration: 25\n",
            "iteration: 35\n",
            "iteration: 45\n"
          ]
        }
      ]
    },
    {
      "cell_type": "markdown",
      "source": [
        "**while** **loop**"
      ],
      "metadata": {
        "id": "OA13ROaZ7SSA"
      }
    },
    {
      "cell_type": "code",
      "source": [
        "count = 0\n",
        "while count < 5:\n",
        "   print(\"count:\",count)\n",
        "   count+=1"
      ],
      "metadata": {
        "colab": {
          "base_uri": "https://localhost:8080/"
        },
        "id": "im7L8WG67WEI",
        "outputId": "1befbd8e-bbec-4b24-b6d9-8563a26dfd5c"
      },
      "execution_count": 14,
      "outputs": [
        {
          "output_type": "stream",
          "name": "stdout",
          "text": [
            "count: 0\n",
            "count: 1\n",
            "count: 2\n",
            "count: 3\n",
            "count: 4\n"
          ]
        }
      ]
    },
    {
      "cell_type": "markdown",
      "source": [
        "**control** **flow** **tools**"
      ],
      "metadata": {
        "id": "UW7UB_sK8eFg"
      }
    },
    {
      "cell_type": "markdown",
      "source": [
        "**break**"
      ],
      "metadata": {
        "id": "XUOPNv058jwn"
      }
    },
    {
      "cell_type": "code",
      "source": [
        "for i in range(10):\n",
        " if i == 5:\n",
        "  break\n",
        " print(i)"
      ],
      "metadata": {
        "colab": {
          "base_uri": "https://localhost:8080/"
        },
        "id": "wgoMrznq8n9n",
        "outputId": "148c43d3-3a12-4427-911c-04acb2b7db8b"
      },
      "execution_count": 16,
      "outputs": [
        {
          "output_type": "stream",
          "name": "stdout",
          "text": [
            "0\n",
            "1\n",
            "2\n",
            "3\n",
            "4\n"
          ]
        }
      ]
    },
    {
      "cell_type": "markdown",
      "source": [
        "**continue**"
      ],
      "metadata": {
        "id": "iqOldEGS9jzH"
      }
    },
    {
      "cell_type": "code",
      "source": [
        "for i in range(10):\n",
        "  if i == 5:\n",
        "    continue\n",
        "  print(i)"
      ],
      "metadata": {
        "colab": {
          "base_uri": "https://localhost:8080/"
        },
        "id": "vojqEmct_25O",
        "outputId": "ed998990-6bbf-4645-bd92-f926d0d0d34a"
      },
      "execution_count": 24,
      "outputs": [
        {
          "output_type": "stream",
          "name": "stdout",
          "text": [
            "0\n",
            "1\n",
            "2\n",
            "3\n",
            "4\n",
            "6\n",
            "7\n",
            "8\n",
            "9\n"
          ]
        }
      ]
    },
    {
      "cell_type": "markdown",
      "source": [
        "**pass**"
      ],
      "metadata": {
        "id": "4y1qFhrLAImO"
      }
    },
    {
      "cell_type": "code",
      "source": [
        "for i in range(10):\n",
        "  if i == 5:\n",
        "    pass\n",
        "  print(i)"
      ],
      "metadata": {
        "colab": {
          "base_uri": "https://localhost:8080/"
        },
        "id": "82FSGqUvAK6W",
        "outputId": "38d588b0-c400-491c-ad1f-08090cde2fda"
      },
      "execution_count": 25,
      "outputs": [
        {
          "output_type": "stream",
          "name": "stdout",
          "text": [
            "0\n",
            "1\n",
            "2\n",
            "3\n",
            "4\n",
            "5\n",
            "6\n",
            "7\n",
            "8\n",
            "9\n"
          ]
        }
      ]
    }
  ]
}