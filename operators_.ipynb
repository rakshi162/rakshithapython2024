{
  "nbformat": 4,
  "nbformat_minor": 0,
  "metadata": {
    "colab": {
      "provenance": []
    },
    "kernelspec": {
      "name": "python3",
      "display_name": "Python 3"
    },
    "language_info": {
      "name": "python"
    }
  },
  "cells": [
    {
      "cell_type": "code",
      "execution_count": 4,
      "metadata": {
        "colab": {
          "base_uri": "https://localhost:8080/"
        },
        "id": "CzzzKvhi9goS",
        "outputId": "9a6cf916-351f-450d-ffe3-3271fba77c10"
      },
      "outputs": [
        {
          "output_type": "stream",
          "name": "stdout",
          "text": [
            "enter the number: 7\n",
            "enter the number10\n",
            "-3\n",
            "7\n",
            "0.7\n",
            "282475249\n"
          ]
        }
      ],
      "source": [
        "a = int(input(\"enter the number: \" ))\n",
        "b = int(input(\"enter the number\"))\n",
        "print(a-b)\n",
        "print(a%b)\n",
        "print(a/b)\n",
        "print(a**b)\n"
      ]
    }
  ]
}