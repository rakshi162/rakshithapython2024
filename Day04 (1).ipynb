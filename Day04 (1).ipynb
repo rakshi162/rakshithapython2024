{
  "nbformat": 4,
  "nbformat_minor": 0,
  "metadata": {
    "colab": {
      "provenance": []
    },
    "kernelspec": {
      "name": "python3",
      "display_name": "Python 3"
    },
    "language_info": {
      "name": "python"
    }
  },
  "cells": [
    {
      "cell_type": "markdown",
      "source": [
        "**data** **structures**"
      ],
      "metadata": {
        "id": "VekcfiaSKxH5"
      }
    },
    {
      "cell_type": "code",
      "source": [
        "#list operations\n",
        "n = [1,2,2.5,\"hello\"]\n",
        "n"
      ],
      "metadata": {
        "colab": {
          "base_uri": "https://localhost:8080/"
        },
        "id": "-Vc11-6RKvQB",
        "outputId": "6f40efa0-1d7d-4c59-be09-5851e44e57e3"
      },
      "execution_count": 1,
      "outputs": [
        {
          "output_type": "execute_result",
          "data": {
            "text/plain": [
              "[1, 2, 2.5, 'hello']"
            ]
          },
          "metadata": {},
          "execution_count": 1
        }
      ]
    },
    {
      "cell_type": "code",
      "execution_count": 2,
      "metadata": {
        "colab": {
          "base_uri": "https://localhost:8080/"
        },
        "id": "ZiUdZvKNI45-",
        "outputId": "fd3ca56c-b686-4be4-db7b-977d0d0eee0e"
      },
      "outputs": [
        {
          "output_type": "execute_result",
          "data": {
            "text/plain": [
              "1"
            ]
          },
          "metadata": {},
          "execution_count": 2
        }
      ],
      "source": [
        "#list operations\n",
        "#accessing items\n",
        "n[0]\n"
      ]
    },
    {
      "cell_type": "code",
      "source": [
        "n[-1]"
      ],
      "metadata": {
        "colab": {
          "base_uri": "https://localhost:8080/",
          "height": 35
        },
        "id": "IHFd5aQ7ZtoF",
        "outputId": "6bc8ce2d-6a79-4327-9619-8c9c3d7ba0a6"
      },
      "execution_count": 3,
      "outputs": [
        {
          "output_type": "execute_result",
          "data": {
            "text/plain": [
              "'hello'"
            ],
            "application/vnd.google.colaboratory.intrinsic+json": {
              "type": "string"
            }
          },
          "metadata": {},
          "execution_count": 3
        }
      ]
    },
    {
      "cell_type": "code",
      "source": [
        "#modifying items\n",
        "n[3] = 22\n",
        "n"
      ],
      "metadata": {
        "colab": {
          "base_uri": "https://localhost:8080/"
        },
        "id": "VjTPB2sFZx7q",
        "outputId": "6235f851-8aea-4942-f717-39bf496c3094"
      },
      "execution_count": 8,
      "outputs": [
        {
          "output_type": "execute_result",
          "data": {
            "text/plain": [
              "[1, 2, 22, 22]"
            ]
          },
          "metadata": {},
          "execution_count": 8
        }
      ]
    },
    {
      "cell_type": "code",
      "source": [
        "#adding items\n",
        "#append\n",
        "n.append(56)\n",
        "n"
      ],
      "metadata": {
        "colab": {
          "base_uri": "https://localhost:8080/"
        },
        "id": "egiRysCFaShv",
        "outputId": "3855cbaa-7c36-40ec-f503-164f674a2427"
      },
      "execution_count": 10,
      "outputs": [
        {
          "output_type": "execute_result",
          "data": {
            "text/plain": [
              "[1, 2, 22, 22, 56, 56]"
            ]
          },
          "metadata": {},
          "execution_count": 10
        }
      ]
    },
    {
      "cell_type": "code",
      "source": [
        "#insert\n",
        "n.insert(5,25)\n",
        "n"
      ],
      "metadata": {
        "colab": {
          "base_uri": "https://localhost:8080/"
        },
        "id": "xsdWkDxda1Yk",
        "outputId": "696f43e5-b569-4284-cbb4-5fcc708cda5b"
      },
      "execution_count": 15,
      "outputs": [
        {
          "output_type": "execute_result",
          "data": {
            "text/plain": [
              "[1, 2, 56, 25, 56, 25]"
            ]
          },
          "metadata": {},
          "execution_count": 15
        }
      ]
    },
    {
      "cell_type": "code",
      "source": [
        "#remove\n",
        "n.remove(22)\n",
        "n"
      ],
      "metadata": {
        "colab": {
          "base_uri": "https://localhost:8080/"
        },
        "id": "ZeWuYGzpa_f8",
        "outputId": "90ff5ff2-37a6-4e2e-f9a9-53a4f3c6f8a8"
      },
      "execution_count": 14,
      "outputs": [
        {
          "output_type": "execute_result",
          "data": {
            "text/plain": [
              "[1, 2, 56, 25, 56]"
            ]
          },
          "metadata": {},
          "execution_count": 14
        }
      ]
    },
    {
      "cell_type": "code",
      "source": [
        "#pop\n",
        "n.pop(3)\n",
        "n"
      ],
      "metadata": {
        "colab": {
          "base_uri": "https://localhost:8080/"
        },
        "id": "oP1zJjlGbfFC",
        "outputId": "c78a2dce-15ef-47e0-ec15-5e16d60b634e"
      },
      "execution_count": 19,
      "outputs": [
        {
          "output_type": "execute_result",
          "data": {
            "text/plain": [
              "[1, 2, 25]"
            ]
          },
          "metadata": {},
          "execution_count": 19
        }
      ]
    },
    {
      "cell_type": "code",
      "source": [
        "n"
      ],
      "metadata": {
        "colab": {
          "base_uri": "https://localhost:8080/"
        },
        "id": "Fk6dt1IQcBWl",
        "outputId": "03b0e5d3-ff54-46d8-95c0-69c10dde7140"
      },
      "execution_count": 21,
      "outputs": [
        {
          "output_type": "execute_result",
          "data": {
            "text/plain": [
              "[1, 2, 25]"
            ]
          },
          "metadata": {},
          "execution_count": 21
        }
      ]
    },
    {
      "cell_type": "code",
      "source": [
        "#other operations\n",
        "len(n)"
      ],
      "metadata": {
        "colab": {
          "base_uri": "https://localhost:8080/"
        },
        "id": "HsRR63TVcP0S",
        "outputId": "55951d6e-001a-428d-a0f7-790b1a8f26eb"
      },
      "execution_count": 20,
      "outputs": [
        {
          "output_type": "execute_result",
          "data": {
            "text/plain": [
              "3"
            ]
          },
          "metadata": {},
          "execution_count": 20
        }
      ]
    },
    {
      "cell_type": "code",
      "source": [
        "#sort\n",
        "n.sort()\n",
        "n"
      ],
      "metadata": {
        "colab": {
          "base_uri": "https://localhost:8080/"
        },
        "id": "KAcgcnJoccIa",
        "outputId": "44f332dc-936b-4a2a-c9b4-19def5ced8ec"
      },
      "execution_count": 22,
      "outputs": [
        {
          "output_type": "execute_result",
          "data": {
            "text/plain": [
              "[1, 2, 25]"
            ]
          },
          "metadata": {},
          "execution_count": 22
        }
      ]
    },
    {
      "cell_type": "code",
      "source": [
        "#reverse\n",
        "n.reverse()\n",
        "n"
      ],
      "metadata": {
        "colab": {
          "base_uri": "https://localhost:8080/"
        },
        "id": "alMEUilucpxK",
        "outputId": "1c23b2d8-675c-4696-f6c1-b43d9ea5dbb2"
      },
      "execution_count": 23,
      "outputs": [
        {
          "output_type": "execute_result",
          "data": {
            "text/plain": [
              "[25, 2, 1]"
            ]
          },
          "metadata": {},
          "execution_count": 23
        }
      ]
    },
    {
      "cell_type": "code",
      "source": [
        "#iterating through list\n",
        "for i in n:\n",
        "  print(i)"
      ],
      "metadata": {
        "colab": {
          "base_uri": "https://localhost:8080/"
        },
        "id": "hADEMIwHcxjq",
        "outputId": "51eb8efa-fb0f-4668-f30c-326be53add30"
      },
      "execution_count": 29,
      "outputs": [
        {
          "output_type": "stream",
          "name": "stdout",
          "text": [
            "25\n",
            "2\n",
            "1\n"
          ]
        }
      ]
    },
    {
      "cell_type": "code",
      "source": [
        "#iterating through list\n",
        "for i in n:\n",
        "  print(n)"
      ],
      "metadata": {
        "colab": {
          "base_uri": "https://localhost:8080/"
        },
        "outputId": "737be2fb-e017-4834-92be-2602a12bc36a",
        "id": "j_StByTfdj8L"
      },
      "execution_count": 30,
      "outputs": [
        {
          "output_type": "stream",
          "name": "stdout",
          "text": [
            "[25, 2, 1]\n",
            "[25, 2, 1]\n",
            "[25, 2, 1]\n"
          ]
        }
      ]
    },
    {
      "cell_type": "code",
      "source": [
        "#iterating through list\n",
        "for i in n:\n",
        "  i = i*3\n",
        "  print(i)"
      ],
      "metadata": {
        "colab": {
          "base_uri": "https://localhost:8080/"
        },
        "outputId": "e55a682f-fc6c-4a88-a158-6c3bb9e77494",
        "id": "4K9yALucdpFM"
      },
      "execution_count": 31,
      "outputs": [
        {
          "output_type": "stream",
          "name": "stdout",
          "text": [
            "75\n",
            "6\n",
            "3\n"
          ]
        }
      ]
    },
    {
      "cell_type": "code",
      "source": [
        "#tuple\n",
        "r = (10,2.5,\"rakshi\")\n",
        "r"
      ],
      "metadata": {
        "colab": {
          "base_uri": "https://localhost:8080/"
        },
        "id": "HOVNggeNdwoc",
        "outputId": "ab2b0633-453f-4889-a7d8-1bd85ab60fa6"
      },
      "execution_count": 32,
      "outputs": [
        {
          "output_type": "execute_result",
          "data": {
            "text/plain": [
              "(10, 2.5, 'rakshi')"
            ]
          },
          "metadata": {},
          "execution_count": 32
        }
      ]
    },
    {
      "cell_type": "code",
      "source": [
        "#accessing\n",
        "r[2]"
      ],
      "metadata": {
        "colab": {
          "base_uri": "https://localhost:8080/",
          "height": 35
        },
        "id": "j5EZ3O_KeCyS",
        "outputId": "a7f5eae9-d1f6-4840-be0f-c38ff9567c0c"
      },
      "execution_count": 33,
      "outputs": [
        {
          "output_type": "execute_result",
          "data": {
            "text/plain": [
              "'rakshi'"
            ],
            "application/vnd.google.colaboratory.intrinsic+json": {
              "type": "string"
            }
          },
          "metadata": {},
          "execution_count": 33
        }
      ]
    },
    {
      "cell_type": "code",
      "source": [
        "r.append(2)"
      ],
      "metadata": {
        "colab": {
          "base_uri": "https://localhost:8080/",
          "height": 141
        },
        "id": "GRlvm_PueLDu",
        "outputId": "a76aa122-e3db-4f29-dba0-cdddd25bec2e"
      },
      "execution_count": 34,
      "outputs": [
        {
          "output_type": "error",
          "ename": "AttributeError",
          "evalue": "'tuple' object has no attribute 'append'",
          "traceback": [
            "\u001b[0;31m---------------------------------------------------------------------------\u001b[0m",
            "\u001b[0;31mAttributeError\u001b[0m                            Traceback (most recent call last)",
            "\u001b[0;32m<ipython-input-34-5621ddebe205>\u001b[0m in \u001b[0;36m<cell line: 1>\u001b[0;34m()\u001b[0m\n\u001b[0;32m----> 1\u001b[0;31m \u001b[0mr\u001b[0m\u001b[0;34m.\u001b[0m\u001b[0mappend\u001b[0m\u001b[0;34m(\u001b[0m\u001b[0;36m2\u001b[0m\u001b[0;34m)\u001b[0m\u001b[0;34m\u001b[0m\u001b[0;34m\u001b[0m\u001b[0m\n\u001b[0m",
            "\u001b[0;31mAttributeError\u001b[0m: 'tuple' object has no attribute 'append'"
          ]
        }
      ]
    },
    {
      "cell_type": "code",
      "source": [
        "#dictionary\n",
        "#creating\n",
        "r = { \"name\":\"mary\",\"age\":18,\"city\":\"verona\"}\n",
        "r"
      ],
      "metadata": {
        "colab": {
          "base_uri": "https://localhost:8080/"
        },
        "id": "wPAnhJvReie6",
        "outputId": "90687196-fe14-44b7-d4e8-8a30e9f4d918"
      },
      "execution_count": 39,
      "outputs": [
        {
          "output_type": "execute_result",
          "data": {
            "text/plain": [
              "{'name': 'mary', 'age': 18, 'city': 'verona'}"
            ]
          },
          "metadata": {},
          "execution_count": 39
        }
      ]
    },
    {
      "cell_type": "code",
      "source": [
        "#accesing\n",
        "r[\"city\"]"
      ],
      "metadata": {
        "colab": {
          "base_uri": "https://localhost:8080/",
          "height": 35
        },
        "id": "f5ucmASVfRvk",
        "outputId": "4565896e-1a90-4d25-b32b-645f46b17d4a"
      },
      "execution_count": 36,
      "outputs": [
        {
          "output_type": "execute_result",
          "data": {
            "text/plain": [
              "'verona'"
            ],
            "application/vnd.google.colaboratory.intrinsic+json": {
              "type": "string"
            }
          },
          "metadata": {},
          "execution_count": 36
        }
      ]
    },
    {
      "cell_type": "code",
      "source": [
        "#modifying\n",
        "r[\"city\"] = \"pune\"\n",
        "r"
      ],
      "metadata": {
        "colab": {
          "base_uri": "https://localhost:8080/"
        },
        "id": "d4w0T9oNizXx",
        "outputId": "52d42268-5315-4336-dcc6-9a8ed7633889"
      },
      "execution_count": 58,
      "outputs": [
        {
          "output_type": "execute_result",
          "data": {
            "text/plain": [
              "{'name': 'mary', 'city': 'pune'}"
            ]
          },
          "metadata": {},
          "execution_count": 58
        }
      ]
    },
    {
      "cell_type": "code",
      "source": [
        "#adding\n",
        "r[\"mob no\"]=1234567890\n",
        "r"
      ],
      "metadata": {
        "colab": {
          "base_uri": "https://localhost:8080/"
        },
        "id": "PY80UyGCi7gG",
        "outputId": "a91675cb-81ad-406d-b7dc-8c4a0396e60a"
      },
      "execution_count": 73,
      "outputs": [
        {
          "output_type": "execute_result",
          "data": {
            "text/plain": [
              "{'name': 'mary', 'city': 'pune', 'mob no': 1234567890}"
            ]
          },
          "metadata": {},
          "execution_count": 73
        }
      ]
    },
    {
      "cell_type": "code",
      "source": [
        "#removing\n",
        "del r[\"mob no\"]\n",
        "r"
      ],
      "metadata": {
        "colab": {
          "base_uri": "https://localhost:8080/"
        },
        "id": "vXDYtH0ijPAl",
        "outputId": "7f40f4b9-831b-488f-906f-77f1dce45b7b"
      },
      "execution_count": 74,
      "outputs": [
        {
          "output_type": "execute_result",
          "data": {
            "text/plain": [
              "{'name': 'mary', 'city': 'pune'}"
            ]
          },
          "metadata": {},
          "execution_count": 74
        }
      ]
    },
    {
      "cell_type": "code",
      "source": [
        "#iterating through a dictionary\n",
        "for i,j in r.items():\n",
        "  print(i,j)"
      ],
      "metadata": {
        "colab": {
          "base_uri": "https://localhost:8080/"
        },
        "id": "1hloCmSVnOwx",
        "outputId": "674067e4-7b3f-4e9a-bdfa-9d44db2cacb5"
      },
      "execution_count": 76,
      "outputs": [
        {
          "output_type": "stream",
          "name": "stdout",
          "text": [
            "name mary\n",
            "city pune\n"
          ]
        }
      ]
    },
    {
      "cell_type": "code",
      "source": [
        "#sets\n",
        "#creating\n",
        "num = {1,2,3,4,5,6,}\n",
        "sum = {2,4,6,8,10,12}\n",
        "num,sum"
      ],
      "metadata": {
        "colab": {
          "base_uri": "https://localhost:8080/"
        },
        "id": "R02Js_Crovvn",
        "outputId": "f75d4069-5589-441f-a8c4-1820d7bb0052"
      },
      "execution_count": 77,
      "outputs": [
        {
          "output_type": "execute_result",
          "data": {
            "text/plain": [
              "({1, 2, 3, 4, 5, 6}, {2, 4, 6, 8, 10, 12})"
            ]
          },
          "metadata": {},
          "execution_count": 77
        }
      ]
    },
    {
      "cell_type": "code",
      "source": [
        "#adding\n",
        "num.add(7)\n",
        "sum.add(14)\n",
        "num,sum"
      ],
      "metadata": {
        "colab": {
          "base_uri": "https://localhost:8080/"
        },
        "id": "ud_nHdF6pSqj",
        "outputId": "d353d57e-85ea-450f-f06e-da941aa8cff4"
      },
      "execution_count": 81,
      "outputs": [
        {
          "output_type": "execute_result",
          "data": {
            "text/plain": [
              "({1, 2, 3, 4, 5, 6, 7}, {2, 4, 6, 8, 10, 12, 14})"
            ]
          },
          "metadata": {},
          "execution_count": 81
        }
      ]
    },
    {
      "cell_type": "code",
      "source": [
        "#removing\n",
        "num.remove(2)\n",
        "sum.remove(10)\n",
        "num,sum"
      ],
      "metadata": {
        "colab": {
          "base_uri": "https://localhost:8080/"
        },
        "id": "pk8G_032pnxD",
        "outputId": "47cc5ed1-6cc4-411f-a065-0c190647e890"
      },
      "execution_count": 82,
      "outputs": [
        {
          "output_type": "execute_result",
          "data": {
            "text/plain": [
              "({1, 3, 4, 5, 6, 7}, {2, 4, 6, 8, 12, 14})"
            ]
          },
          "metadata": {},
          "execution_count": 82
        }
      ]
    },
    {
      "cell_type": "code",
      "source": [
        "#union\n",
        "num|sum"
      ],
      "metadata": {
        "colab": {
          "base_uri": "https://localhost:8080/"
        },
        "id": "9YaFFuKBp8q_",
        "outputId": "aca0e269-9781-401c-ec2b-fb6f503a8bfc"
      },
      "execution_count": 83,
      "outputs": [
        {
          "output_type": "execute_result",
          "data": {
            "text/plain": [
              "{1, 2, 3, 4, 5, 6, 7, 8, 12, 14}"
            ]
          },
          "metadata": {},
          "execution_count": 83
        }
      ]
    },
    {
      "cell_type": "code",
      "source": [
        "#intersection\n",
        "num&sum"
      ],
      "metadata": {
        "colab": {
          "base_uri": "https://localhost:8080/"
        },
        "id": "ZnMVuWaGqNdJ",
        "outputId": "210b2533-b16f-47bc-daee-f0007be23df9"
      },
      "execution_count": 84,
      "outputs": [
        {
          "output_type": "execute_result",
          "data": {
            "text/plain": [
              "{4, 6}"
            ]
          },
          "metadata": {},
          "execution_count": 84
        }
      ]
    },
    {
      "cell_type": "code",
      "source": [
        "#difference\n",
        "num-sum"
      ],
      "metadata": {
        "colab": {
          "base_uri": "https://localhost:8080/"
        },
        "id": "GjfU_5DMqWyP",
        "outputId": "ea6f11a6-a064-4b57-b0f5-707e577a04bc"
      },
      "execution_count": 85,
      "outputs": [
        {
          "output_type": "execute_result",
          "data": {
            "text/plain": [
              "{1, 3, 5, 7}"
            ]
          },
          "metadata": {},
          "execution_count": 85
        }
      ]
    },
    {
      "cell_type": "code",
      "source": [
        "sum-num"
      ],
      "metadata": {
        "colab": {
          "base_uri": "https://localhost:8080/"
        },
        "id": "u3Hdjp_rqhCZ",
        "outputId": "dfed59fa-c00e-479f-91ab-347667162676"
      },
      "execution_count": 86,
      "outputs": [
        {
          "output_type": "execute_result",
          "data": {
            "text/plain": [
              "{2, 8, 12, 14}"
            ]
          },
          "metadata": {},
          "execution_count": 86
        }
      ]
    },
    {
      "cell_type": "code",
      "source": [
        "#merge two lists\n",
        "a =  [1,2,3]\n",
        "b = [4,5,6]\n",
        "c = a+b\n",
        "c"
      ],
      "metadata": {
        "colab": {
          "base_uri": "https://localhost:8080/"
        },
        "id": "m_q3QHGJqmvK",
        "outputId": "f2fc3c90-1c3f-4516-cb88-2fd0b5f467b6"
      },
      "execution_count": 87,
      "outputs": [
        {
          "output_type": "execute_result",
          "data": {
            "text/plain": [
              "[1, 2, 3, 4, 5, 6]"
            ]
          },
          "metadata": {},
          "execution_count": 87
        }
      ]
    },
    {
      "cell_type": "code",
      "source": [
        "#dictionary operations\n",
        "r = {\"name\":\"rakshi\",\"age\":18,\"marks\":90}\n",
        "print(\"name:\",r[\"name\"])\n",
        "r[\"marks\"] = 95\n",
        "(\"updated marks:\",r[\"marks\"])"
      ],
      "metadata": {
        "colab": {
          "base_uri": "https://localhost:8080/"
        },
        "id": "lc76TtBnrG9Z",
        "outputId": "78d8e52d-e3d6-4628-82e5-cc4e9c3ba654"
      },
      "execution_count": 91,
      "outputs": [
        {
          "output_type": "stream",
          "name": "stdout",
          "text": [
            "name: rakshi\n"
          ]
        },
        {
          "output_type": "execute_result",
          "data": {
            "text/plain": [
              "('updated marks:', 95)"
            ]
          },
          "metadata": {},
          "execution_count": 91
        }
      ]
    },
    {
      "cell_type": "code",
      "source": [
        "#find the maximum and minimum in a list\n",
        "num = [10,12,15,20,25]\n",
        "print(\"maximum:\",max(num))\n",
        "print(\"minimum:\",min(num))"
      ],
      "metadata": {
        "colab": {
          "base_uri": "https://localhost:8080/"
        },
        "id": "OjkMsKimsWL2",
        "outputId": "bb6b37a5-f17b-467b-e0e0-703097f745f8"
      },
      "execution_count": 92,
      "outputs": [
        {
          "output_type": "stream",
          "name": "stdout",
          "text": [
            "maximum: 25\n",
            "minimum: 10\n"
          ]
        }
      ]
    },
    {
      "cell_type": "code",
      "source": [
        "#count frequency of elements in a list\n",
        "num = [1,2,2,2,3,4,4,4]\n",
        "frequency = {}\n",
        "for i in num:\n",
        "  frequency[i] = frequency.get(i,0)+1\n",
        "print(\"frequency of elements:\",frequency)"
      ],
      "metadata": {
        "colab": {
          "base_uri": "https://localhost:8080/"
        },
        "id": "gIu52JzbsyQV",
        "outputId": "e816b38e-95ed-490a-c9de-4cb3e63e215b"
      },
      "execution_count": 93,
      "outputs": [
        {
          "output_type": "stream",
          "name": "stdout",
          "text": [
            "frequency of elements: {1: 1, 2: 3, 3: 1, 4: 3}\n"
          ]
        }
      ]
    },
    {
      "cell_type": "code",
      "source": [
        "#sort a list of tuples by the second element\n",
        "tuples = [(1,'apple'),(2,'banana'),(3,'cherry')]\n",
        "sorted_tuples = sorted(tuples,key=lambda x:x[1])\n",
        "print(\"sorted tuples:\",sorted_tuples)"
      ],
      "metadata": {
        "colab": {
          "base_uri": "https://localhost:8080/"
        },
        "id": "A5M8zTlbt6yh",
        "outputId": "5af39fbe-8edc-4b9b-894b-94d651cb4df5"
      },
      "execution_count": 94,
      "outputs": [
        {
          "output_type": "stream",
          "name": "stdout",
          "text": [
            "sorted tuples: [(1, 'apple'), (2, 'banana'), (3, 'cherry')]\n"
          ]
        }
      ]
    },
    {
      "cell_type": "code",
      "source": [
        "  #reverse a list\n",
        "  num = [1,2,3,4,5]\n",
        "  reversed_num = num[::-1]\n",
        "  print(\"reversed list:\",reversed_num)"
      ],
      "metadata": {
        "colab": {
          "base_uri": "https://localhost:8080/"
        },
        "id": "OGe3co4fvr4Z",
        "outputId": "82d4dc69-3057-428b-830f-5ac49292706c"
      },
      "execution_count": 96,
      "outputs": [
        {
          "output_type": "stream",
          "name": "stdout",
          "text": [
            "reversed list: [5, 4, 3, 2, 1]\n"
          ]
        }
      ]
    },
    {
      "cell_type": "code",
      "source": [
        "num = [1, 2, 3, 4, 5]\n",
        "num.reverse()\n",
        "print(\"reversed list:\", num)\n"
      ],
      "metadata": {
        "colab": {
          "base_uri": "https://localhost:8080/"
        },
        "id": "GaFVTj_AxqeC",
        "outputId": "b4b4f602-cd1e-4f80-dcc4-d380821d6817"
      },
      "execution_count": 97,
      "outputs": [
        {
          "output_type": "stream",
          "name": "stdout",
          "text": [
            "reversed list: [5, 4, 3, 2, 1]\n"
          ]
        }
      ]
    },
    {
      "cell_type": "code",
      "source": [
        "num = [1, 2, 3, 4, 5]\n",
        "reversed_num = list(reversed(num))  # Convert the reversed iterator to a list\n",
        "print(\"reversed list:\", reversed_num)\n"
      ],
      "metadata": {
        "colab": {
          "base_uri": "https://localhost:8080/"
        },
        "id": "wlvlXumdxywR",
        "outputId": "15f510e8-e482-4007-d0ab-8a64f593c299"
      },
      "execution_count": 98,
      "outputs": [
        {
          "output_type": "stream",
          "name": "stdout",
          "text": [
            "reversed list: [5, 4, 3, 2, 1]\n"
          ]
        }
      ]
    },
    {
      "cell_type": "code",
      "source": [
        "#largest element in list\n",
        "num = [1, 2, 3, 4, 5]\n",
        "largest_num = max(num)\n",
        "print(\"largest element:\", largest_num)"
      ],
      "metadata": {
        "colab": {
          "base_uri": "https://localhost:8080/"
        },
        "id": "hPYmWHkMx7ro",
        "outputId": "c8cad511-b31b-4b02-9f3c-effe885b01ee"
      },
      "execution_count": 99,
      "outputs": [
        {
          "output_type": "stream",
          "name": "stdout",
          "text": [
            "largest element: 5\n"
          ]
        }
      ]
    },
    {
      "cell_type": "code",
      "source": [
        "num = [1, 2, 3, 4, 5]\n",
        "largest_num = num[0]  # Assume the first element is the largest\n",
        "for n in num:\n",
        "    if n > largest_num:\n",
        "        largest_num = n\n",
        "print(\"largest element:\", largest_num)\n"
      ],
      "metadata": {
        "colab": {
          "base_uri": "https://localhost:8080/"
        },
        "id": "ZhpML-eVyWcL",
        "outputId": "ed44b495-cbc1-425d-de9d-2b528e5006ae"
      },
      "execution_count": 100,
      "outputs": [
        {
          "output_type": "stream",
          "name": "stdout",
          "text": [
            "largest element: 5\n"
          ]
        }
      ]
    },
    {
      "cell_type": "code",
      "source": [
        "num = [1, 2, 3, 4, 5]\n",
        "largest_num = sorted(num, reverse=True)[0]\n",
        "print(\"largest element:\", largest_num)\n"
      ],
      "metadata": {
        "colab": {
          "base_uri": "https://localhost:8080/"
        },
        "id": "zdfHsE5HyYxx",
        "outputId": "1753ea39-d40f-447e-c516-d2d635bf8f6f"
      },
      "execution_count": 101,
      "outputs": [
        {
          "output_type": "stream",
          "name": "stdout",
          "text": [
            "largest element: 5\n"
          ]
        }
      ]
    },
    {
      "cell_type": "code",
      "source": [
        "#remove duplicate from a list\n",
        "num = [1, 2, 2, 3, 4, 4, 5]\n",
        "unique_num = list(set(num))\n",
        "print(\"list without duplicates:\", unique_num)"
      ],
      "metadata": {
        "colab": {
          "base_uri": "https://localhost:8080/"
        },
        "id": "ttK9laiNzTVA",
        "outputId": "52147b2c-12c6-4218-cecc-9b4e7f81b21a"
      },
      "execution_count": 102,
      "outputs": [
        {
          "output_type": "stream",
          "name": "stdout",
          "text": [
            "list without duplicates: [1, 2, 3, 4, 5]\n"
          ]
        }
      ]
    },
    {
      "cell_type": "code",
      "source": [
        "#count occurences of an element in a list\n",
        "num = [1, 2, 2, 3, 4, 4,]\n",
        "count = num.count(2)\n",
        "print(\"count of 2:\", count)"
      ],
      "metadata": {
        "colab": {
          "base_uri": "https://localhost:8080/"
        },
        "id": "XcynOeA20Fej",
        "outputId": "4e792a69-d963-4967-ee31-46ae8a79bbad"
      },
      "execution_count": 103,
      "outputs": [
        {
          "output_type": "stream",
          "name": "stdout",
          "text": [
            "count of 2: 2\n"
          ]
        }
      ]
    },
    {
      "cell_type": "code",
      "source": [
        "#palindrome or not\n",
        "number = int(input(\"enter a number:\"))\n",
        "reverse_number = 0\n",
        "temp = number\n",
        "while temp > 0:\n",
        "    digit = temp % 10\n",
        "    reverse_number = reverse_number * 10 + digit\n",
        "    temp = temp // 10\n",
        "if number == reverse_number:\n",
        "    print(f\"{number} is a palindrome.\")\n",
        "else:\n",
        "    print(f\"{number} is not a palindrome.\")"
      ],
      "metadata": {
        "colab": {
          "base_uri": "https://localhost:8080/"
        },
        "id": "BMLfxg6D3Vtm",
        "outputId": "6cf2666c-e13e-4865-d3a7-26ad63d864b3"
      },
      "execution_count": 109,
      "outputs": [
        {
          "output_type": "stream",
          "name": "stdout",
          "text": [
            "enter a number:656\n",
            "656 is a palindrome.\n"
          ]
        }
      ]
    },
    {
      "cell_type": "code",
      "source": [
        "#string polindrome\n",
        "num = input(\"enter a number:\")\n",
        "if str(number) == str(number)[::-1]:\n",
        "    print(\"palindrome\")\n",
        "else:\n",
        "    print(\"not a polindrome\")\n"
      ],
      "metadata": {
        "colab": {
          "base_uri": "https://localhost:8080/"
        },
        "id": "5cKycZrD6Ez8",
        "outputId": "8df33693-82bb-4176-dabd-cae1a03a1237"
      },
      "execution_count": 120,
      "outputs": [
        {
          "output_type": "stream",
          "name": "stdout",
          "text": [
            "enter a number:sos\n",
            "palindrome\n"
          ]
        }
      ]
    }
  ]
}