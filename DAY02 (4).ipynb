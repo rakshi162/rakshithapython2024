{
  "nbformat": 4,
  "nbformat_minor": 0,
  "metadata": {
    "colab": {
      "provenance": []
    },
    "kernelspec": {
      "name": "python3",
      "display_name": "Python 3"
    },
    "language_info": {
      "name": "python"
    }
  },
  "cells": [
    {
      "cell_type": "markdown",
      "source": [
        "**control** **flow** **loops**"
      ],
      "metadata": {
        "id": "_HlbvXZU0n_z"
      }
    },
    {
      "cell_type": "markdown",
      "source": [
        "**if** **statement**"
      ],
      "metadata": {
        "id": "Gjr6cPKV1v17"
      }
    },
    {
      "cell_type": "code",
      "source": [
        "age = 18\n",
        "if age >= 18:\n",
        "    print(\"you are eligible to vote\")\n"
      ],
      "metadata": {
        "colab": {
          "base_uri": "https://localhost:8080/"
        },
        "id": "QubvcsSS0k5c",
        "outputId": "8407502e-e679-4e74-b680-aac8bb544b00"
      },
      "execution_count": 2,
      "outputs": [
        {
          "output_type": "stream",
          "name": "stdout",
          "text": [
            "you are eligible to vote\n"
          ]
        }
      ]
    },
    {
      "cell_type": "markdown",
      "source": [
        "**if** **else** **statement**"
      ],
      "metadata": {
        "id": "gVM3Fp1x2LD6"
      }
    },
    {
      "cell_type": "code",
      "source": [
        "num = int(input(\"enter number:\"))\n",
        "if num % 2 == 0:\n",
        "  print(\"even\")\n",
        "else:\n",
        "  print(\"odd\")"
      ],
      "metadata": {
        "colab": {
          "base_uri": "https://localhost:8080/"
        },
        "id": "B0mNRShp_vVn",
        "outputId": "846ae821-6f66-4d1f-fb06-072a18a7aecd"
      },
      "execution_count": 23,
      "outputs": [
        {
          "output_type": "stream",
          "name": "stdout",
          "text": [
            "enter number:7\n",
            "odd\n"
          ]
        }
      ]
    },
    {
      "cell_type": "markdown",
      "source": [
        "**if** **elif** **else** **statement**"
      ],
      "metadata": {
        "id": "FOqAmFJ13XpC"
      }
    },
    {
      "cell_type": "code",
      "source": [
        "marks = int(input(\"enter marks:\"))\n",
        "if marks >= 80:\n",
        "  print(\"grade : A\")\n",
        "elif marks >= 75:\n",
        "  print(\"grade : B\")\n",
        "elif marks >= 50:\n",
        "  print(\"grade : C\")\n",
        "else:\n",
        "  print(\"grade : F\")\n"
      ],
      "metadata": {
        "colab": {
          "base_uri": "https://localhost:8080/"
        },
        "id": "KDZuYHnq3dVi",
        "outputId": "0e032b52-49de-4558-db24-eec8fbf487f5"
      },
      "execution_count": 7,
      "outputs": [
        {
          "output_type": "stream",
          "name": "stdout",
          "text": [
            "enter marks:65\n",
            "grade : C\n"
          ]
        }
      ]
    },
    {
      "cell_type": "markdown",
      "source": [
        "**FOR** **LOOP**"
      ],
      "metadata": {
        "id": "l0CDBTnO5QIR"
      }
    },
    {
      "cell_type": "code",
      "source": [
        "for i in range (5):\n",
        "  print(\"iteration:\",i)"
      ],
      "metadata": {
        "colab": {
          "base_uri": "https://localhost:8080/"
        },
        "id": "eq-9QUV85OPx",
        "outputId": "edff6bc7-b258-47a2-975b-19be443db8ff"
      },
      "execution_count": 10,
      "outputs": [
        {
          "output_type": "stream",
          "name": "stdout",
          "text": [
            "iteration: 0\n",
            "iteration: 1\n",
            "iteration: 2\n",
            "iteration: 3\n",
            "iteration: 4\n"
          ]
        }
      ]
    },
    {
      "cell_type": "code",
      "source": [
        "for i in range (5,10):\n",
        "  print(\"iteration:\",i)"
      ],
      "metadata": {
        "colab": {
          "base_uri": "https://localhost:8080/"
        },
        "outputId": "d819bde5-8fc8-4d48-bb08-ea0964b38996",
        "id": "QloS4np67FUq"
      },
      "execution_count": 11,
      "outputs": [
        {
          "output_type": "stream",
          "name": "stdout",
          "text": [
            "iteration: 5\n",
            "iteration: 6\n",
            "iteration: 7\n",
            "iteration: 8\n",
            "iteration: 9\n"
          ]
        }
      ]
    },
    {
      "cell_type": "code",
      "source": [
        "for i in range (5,50,10):\n",
        "  print(\"iteration:\",i)"
      ],
      "metadata": {
        "colab": {
          "base_uri": "https://localhost:8080/"
        },
        "outputId": "153c58a9-48b9-423b-e603-bfd416726204",
        "id": "S4DKbM-E7Kwo"
      },
      "execution_count": 12,
      "outputs": [
        {
          "output_type": "stream",
          "name": "stdout",
          "text": [
            "iteration: 5\n",
            "iteration: 15\n",
            "iteration: 25\n",
            "iteration: 35\n",
            "iteration: 45\n"
          ]
        }
      ]
    },
    {
      "cell_type": "markdown",
      "source": [
        "**while** **loop**"
      ],
      "metadata": {
        "id": "OA13ROaZ7SSA"
      }
    },
    {
      "cell_type": "code",
      "source": [
        "count = 0\n",
        "while count < 5:\n",
        "   print(\"count:\",count)\n",
        "   count+=1"
      ],
      "metadata": {
        "colab": {
          "base_uri": "https://localhost:8080/"
        },
        "id": "im7L8WG67WEI",
        "outputId": "1befbd8e-bbec-4b24-b6d9-8563a26dfd5c"
      },
      "execution_count": 14,
      "outputs": [
        {
          "output_type": "stream",
          "name": "stdout",
          "text": [
            "count: 0\n",
            "count: 1\n",
            "count: 2\n",
            "count: 3\n",
            "count: 4\n"
          ]
        }
      ]
    },
    {
      "cell_type": "markdown",
      "source": [
        "**control** **flow** **tools**"
      ],
      "metadata": {
        "id": "UW7UB_sK8eFg"
      }
    },
    {
      "cell_type": "markdown",
      "source": [
        "**break**"
      ],
      "metadata": {
        "id": "XUOPNv058jwn"
      }
    },
    {
      "cell_type": "code",
      "source": [
        "for i in range(10):\n",
        " if i == 5:\n",
        "  break\n",
        " print(i)"
      ],
      "metadata": {
        "colab": {
          "base_uri": "https://localhost:8080/"
        },
        "id": "wgoMrznq8n9n",
        "outputId": "148c43d3-3a12-4427-911c-04acb2b7db8b"
      },
      "execution_count": 16,
      "outputs": [
        {
          "output_type": "stream",
          "name": "stdout",
          "text": [
            "0\n",
            "1\n",
            "2\n",
            "3\n",
            "4\n"
          ]
        }
      ]
    },
    {
      "cell_type": "markdown",
      "source": [
        "**continue**"
      ],
      "metadata": {
        "id": "iqOldEGS9jzH"
      }
    },
    {
      "cell_type": "code",
      "source": [
        "for i in range(10):\n",
        "  if i == 5:\n",
        "    continue\n",
        "  print(i)"
      ],
      "metadata": {
        "colab": {
          "base_uri": "https://localhost:8080/"
        },
        "id": "vojqEmct_25O",
        "outputId": "ed998990-6bbf-4645-bd92-f926d0d0d34a"
      },
      "execution_count": 24,
      "outputs": [
        {
          "output_type": "stream",
          "name": "stdout",
          "text": [
            "0\n",
            "1\n",
            "2\n",
            "3\n",
            "4\n",
            "6\n",
            "7\n",
            "8\n",
            "9\n"
          ]
        }
      ]
    },
    {
      "cell_type": "markdown",
      "source": [
        "**pass**"
      ],
      "metadata": {
        "id": "4y1qFhrLAImO"
      }
    },
    {
      "cell_type": "code",
      "source": [
        "for i in range(10):\n",
        "  if i == 5:\n",
        "    pass\n",
        "  print(i)"
      ],
      "metadata": {
        "colab": {
          "base_uri": "https://localhost:8080/"
        },
        "id": "82FSGqUvAK6W",
        "outputId": "38d588b0-c400-491c-ad1f-08090cde2fda"
      },
      "execution_count": 25,
      "outputs": [
        {
          "output_type": "stream",
          "name": "stdout",
          "text": [
            "0\n",
            "1\n",
            "2\n",
            "3\n",
            "4\n",
            "5\n",
            "6\n",
            "7\n",
            "8\n",
            "9\n"
          ]
        }
      ]
    },
    {
      "cell_type": "markdown",
      "source": [
        "**number** **is** **even** or **odd**"
      ],
      "metadata": {
        "id": "kaghf7zhCGrG"
      }
    },
    {
      "cell_type": "code",
      "source": [
        "num = int(input(\"enter number:\"))\n",
        "if num % 2 == 0:\n",
        "  print(\"the number is even.\")\n",
        "else:\n",
        "  print(\"the number is odd.\")\n"
      ],
      "metadata": {
        "colab": {
          "base_uri": "https://localhost:8080/"
        },
        "id": "bpLP3-bICPaN",
        "outputId": "38b4761d-bf3f-4865-820b-79ccc19059a2"
      },
      "execution_count": 27,
      "outputs": [
        {
          "output_type": "stream",
          "name": "stdout",
          "text": [
            "enter number:25\n",
            "the number is odd.\n"
          ]
        }
      ]
    },
    {
      "cell_type": "markdown",
      "source": [
        "**sum** **of** **numbers** **in** **a** **given** **range**"
      ],
      "metadata": {
        "id": "8sjzq-JBCyHe"
      }
    },
    {
      "cell_type": "code",
      "source": [
        "start = int(input(\"enter the start of the range:\"))\n",
        "end = int(input(\"enter the end of the range:\"))\n",
        "sum = 0\n",
        "for i in range(start,end + 1):\n",
        "  sum +=i\n",
        "print(\"the sum is:\", sum)"
      ],
      "metadata": {
        "colab": {
          "base_uri": "https://localhost:8080/"
        },
        "id": "wuMzynV1C8lG",
        "outputId": "f9d2cceb-44b8-4b0b-8eba-fc4f92d560bd"
      },
      "execution_count": 28,
      "outputs": [
        {
          "output_type": "stream",
          "name": "stdout",
          "text": [
            "enter the start of the range:2\n",
            "enter the end of the range:10\n",
            "the sum is: 54\n"
          ]
        }
      ]
    },
    {
      "cell_type": "markdown",
      "source": [
        "**to** **find** **factorial** **number**"
      ],
      "metadata": {
        "id": "kQxARmjzE9G1"
      }
    },
    {
      "cell_type": "code",
      "source": [
        "num = int(input(\"enter a number:\"))\n",
        "factorial = 1\n",
        "for i in range(1, num + 1):\n",
        "  factorial*= i\n",
        "print(\"the factorial is:\",factorial)"
      ],
      "metadata": {
        "colab": {
          "base_uri": "https://localhost:8080/"
        },
        "id": "Cyslee5kFDAV",
        "outputId": "857b7f99-b687-4046-f600-c51d408d2ff1"
      },
      "execution_count": 31,
      "outputs": [
        {
          "output_type": "stream",
          "name": "stdout",
          "text": [
            "enter a number:5\n",
            "the factorial is: 120\n"
          ]
        }
      ]
    },
    {
      "cell_type": "markdown",
      "source": [
        "**fibonacci** **series**"
      ],
      "metadata": {
        "id": "lu3Ux1uAH6Ls"
      }
    },
    {
      "cell_type": "code",
      "source": [
        "n = int(input(\"enter a number of terms: \"))\n",
        "a, b = 0, 1\n",
        "for i in range(n):\n",
        "   print(a, end=\" \")\n",
        "   a,b = b, a + b"
      ],
      "metadata": {
        "colab": {
          "base_uri": "https://localhost:8080/"
        },
        "id": "2xK3-evdIAOs",
        "outputId": "b9668f87-4abc-44e0-8b8c-35defa6bd17b"
      },
      "execution_count": 42,
      "outputs": [
        {
          "output_type": "stream",
          "name": "stdout",
          "text": [
            "enter a number of terms: 5\n",
            "0 1 1 2 3 "
          ]
        }
      ]
    },
    {
      "cell_type": "markdown",
      "source": [
        "**simple** **calculator**"
      ],
      "metadata": {
        "id": "03YJii9qdmfV"
      }
    },
    {
      "cell_type": "code",
      "source": [
        "num1 = float(input(\"enter first number:\"))\n",
        "num2 = float(input(\"enter second number:\"))\n",
        "operation= input(\"enter operation(+,-,*,/,%,//,**):\")\n",
        "if operation == \"+\":\n",
        "  print(\"result:\", num1 + num2)\n",
        "elif operation == \"-\":\n",
        "  print(\"result:\", num1 - num2)\n",
        "elif operation == \"*\":\n",
        "  print(\"result:\", num1 * num)\n",
        "elif operation == \"/\":\n",
        "  print(\"result:\", num1 / num2)\n",
        "elif operation == \"%\":\n",
        "  print(\"result:\", num1 % num2)\n",
        "elif operation == \"//\":\n",
        "  print(\"result:\", num1// num2)\n",
        "elif operation == \"**\":\n",
        "  print(\"result:\", num1**num2)\n",
        "else:\n",
        "  print(\"invalid operation\")\n"
      ],
      "metadata": {
        "colab": {
          "base_uri": "https://localhost:8080/"
        },
        "id": "ebN5siTTUuKx",
        "outputId": "bc0b8611-5661-488a-d8a6-36984c2c1fc2"
      },
      "execution_count": 45,
      "outputs": [
        {
          "output_type": "stream",
          "name": "stdout",
          "text": [
            "enter first number:2\n",
            "enter second number:3\n",
            "enter operation(+,-,*,/,%,//,**):**\n",
            "result: 8.0\n"
          ]
        }
      ]
    },
    {
      "cell_type": "markdown",
      "source": [
        "**leap** **year** **or** **not**"
      ],
      "metadata": {
        "id": "25MS6Kqhd2Wd"
      }
    },
    {
      "cell_type": "code",
      "source": [
        "year = int(input(\"enter a year:\"))\n",
        "if year%4 == 0 and (year%100 !=0) or (year % 400 == 0):\n",
        " print(\"leap year\")\n",
        "else:\n",
        "  print(\"not a leap year\")"
      ],
      "metadata": {
        "colab": {
          "base_uri": "https://localhost:8080/"
        },
        "id": "cKkRWYHQd8Nj",
        "outputId": "27376b0e-55a2-4c17-9ea3-041ac255f47f"
      },
      "execution_count": 46,
      "outputs": [
        {
          "output_type": "stream",
          "name": "stdout",
          "text": [
            "enter a year:2019\n",
            "not a leap year\n"
          ]
        }
      ]
    },
    {
      "cell_type": "markdown",
      "source": [
        "**largest** **of** **three** **numbers**"
      ],
      "metadata": {
        "id": "Dq5w8PBcgWAr"
      }
    },
    {
      "cell_type": "code",
      "source": [
        "num1 = float(input(\"enter first number :\"))\n",
        "num2 = float(input(\"enter second number:\"))\n",
        "num3 = float(input(\"enter third number:\"))\n",
        "if num1 >= num2 and num1 >= num3:\n",
        "  print(\"largest number is:\",num1)\n",
        "elif num2 >= num3:\n",
        "  print(\"largest number is:\",num2)\n",
        "else:\n",
        "  print(\"largest number is:\",num3)"
      ],
      "metadata": {
        "colab": {
          "base_uri": "https://localhost:8080/"
        },
        "id": "1z4BpPPPgdhM",
        "outputId": "97643daf-993b-4bce-cc5d-4fa816852c66"
      },
      "execution_count": 49,
      "outputs": [
        {
          "output_type": "stream",
          "name": "stdout",
          "text": [
            "enter first number :6\n",
            "enter second number:9\n",
            "enter third number:2\n",
            "largest number is: 9.0\n"
          ]
        }
      ]
    },
    {
      "cell_type": "markdown",
      "source": [
        "**positive** or **negative** or **zero**"
      ],
      "metadata": {
        "id": "cg_GBALPiV15"
      }
    },
    {
      "cell_type": "code",
      "source": [
        "a = int(input(\"enter a number:\"))\n",
        "if a > 0:\n",
        "  print(\"positive\")\n",
        "elif a < 0:\n",
        "  print(\"negative\")\n",
        "else:\n",
        "  print(\"zero\")"
      ],
      "metadata": {
        "colab": {
          "base_uri": "https://localhost:8080/"
        },
        "id": "3VhMVXeTig1k",
        "outputId": "4ebe903c-99fc-4ecc-cf83-0cf357ba352d"
      },
      "execution_count": 50,
      "outputs": [
        {
          "output_type": "stream",
          "name": "stdout",
          "text": [
            "enter a number:4\n",
            "positive\n"
          ]
        }
      ]
    },
    {
      "cell_type": "markdown",
      "source": [
        "**sum** **of** **all** **even** **numbers** **in** **a** **range**"
      ],
      "metadata": {
        "id": "B8nkvkwTjowE"
      }
    },
    {
      "cell_type": "code",
      "source": [
        "a = int(input(\"enter the start of the range:\"))\n",
        "b = int(input(\"enter the end of the range:\"))\n",
        "sum = 0\n",
        "for i in range(a,b + 1):\n",
        "  if i % 2 == 0:\n",
        "    sum += i\n",
        "print(\"the sum of even numbers:\",sum)"
      ],
      "metadata": {
        "colab": {
          "base_uri": "https://localhost:8080/"
        },
        "id": "fSCCAXe3j4lw",
        "outputId": "d70da46b-52c4-42b6-9b8c-898223a78e5b"
      },
      "execution_count": 52,
      "outputs": [
        {
          "output_type": "stream",
          "name": "stdout",
          "text": [
            "enter the start of the range:6\n",
            "enter the end of the range:15\n",
            "the sum of even numbers: 50\n"
          ]
        }
      ]
    }
  ]
}