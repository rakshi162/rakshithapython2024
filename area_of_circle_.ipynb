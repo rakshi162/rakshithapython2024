{
  "nbformat": 4,
  "nbformat_minor": 0,
  "metadata": {
    "colab": {
      "provenance": []
    },
    "kernelspec": {
      "name": "python3",
      "display_name": "Python 3"
    },
    "language_info": {
      "name": "python"
    }
  },
  "cells": [
    {
      "cell_type": "code",
      "execution_count": 3,
      "metadata": {
        "colab": {
          "base_uri": "https://localhost:8080/"
        },
        "id": "CzzzKvhi9goS",
        "outputId": "b469c6e5-77fa-4213-ef27-5a43ff932831"
      },
      "outputs": [
        {
          "output_type": "stream",
          "name": "stdout",
          "text": [
            "enter the radius: 0.5\n",
            "area of circle is: 0.785\n"
          ]
        }
      ],
      "source": [
        "radius = float(input(\"enter the radius: \" ))\n",
        "pi = 3.14\n",
        "area = pi * radius **2\n",
        "print(\"area of circle is:\",area)"
      ]
    }
  ]
}