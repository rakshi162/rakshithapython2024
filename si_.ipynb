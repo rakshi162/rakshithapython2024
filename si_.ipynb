{
  "nbformat": 4,
  "nbformat_minor": 0,
  "metadata": {
    "colab": {
      "provenance": []
    },
    "kernelspec": {
      "name": "python3",
      "display_name": "Python 3"
    },
    "language_info": {
      "name": "python"
    }
  },
  "cells": [
    {
      "cell_type": "code",
      "execution_count": 6,
      "metadata": {
        "colab": {
          "base_uri": "https://localhost:8080/"
        },
        "id": "CzzzKvhi9goS",
        "outputId": "6ef8f783-f236-4fc5-f4a8-31f0bf638408"
      },
      "outputs": [
        {
          "output_type": "stream",
          "name": "stdout",
          "text": [
            "3\n",
            "2\n",
            "4\n",
            "0.24\n"
          ]
        }
      ],
      "source": [
        "p = int(input())\n",
        "r = float(input())\n",
        "t = int(input())\n",
        "print(p*r*t/100)\n"
      ]
    },
    {
      "cell_type": "code",
      "source": [],
      "metadata": {
        "id": "Dgq5j6_fDS-8"
      },
      "execution_count": null,
      "outputs": []
    }
  ]
}