{
  "nbformat": 4,
  "nbformat_minor": 0,
  "metadata": {
    "colab": {
      "provenance": []
    },
    "kernelspec": {
      "name": "python3",
      "display_name": "Python 3"
    },
    "language_info": {
      "name": "python"
    }
  },
  "cells": [
    {
      "cell_type": "code",
      "execution_count": 2,
      "metadata": {
        "colab": {
          "base_uri": "https://localhost:8080/"
        },
        "id": "CzzzKvhi9goS",
        "outputId": "4b0066bc-2357-4273-f586-c59ad8377498"
      },
      "outputs": [
        {
          "output_type": "stream",
          "name": "stdout",
          "text": [
            "enter a first number5\n",
            "enter a second number 3\n",
            "8\n",
            "15\n"
          ]
        }
      ],
      "source": [
        "a = int(input(\"enter a first number \" ))\n",
        "b = int(input(\"enter a second number \"))\n",
        "print(a+b)\n",
        "print(a*b)"
      ]
    }
  ]
}